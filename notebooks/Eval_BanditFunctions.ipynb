{
 "cells": [
  {
   "cell_type": "code",
   "execution_count": null,
   "id": "initial_id",
   "metadata": {
    "collapsed": true
   },
   "outputs": [],
   "source": ""
  },
  {
   "metadata": {},
   "cell_type": "code",
   "outputs": [],
   "execution_count": null,
   "source": [
    "def WS_LS(Bandit, epsilon):\n",
    "    n_trial = np.shape(Bandit)[1]\n",
    "    trial_number = 0\n",
    "    First_element = np.random.randint(0, 2,1)[0]\n",
    "    response  = [First_element]\n",
    "    reward = [Bandit[response[-1], trial_number]]\n",
    "    for i in range(1, n_trial):\n",
    "        if np.random.uniform(low=0.0, high=1.0, size=1)[0]>epsilon:\n",
    "            if reward[-1] > 0:\n",
    "                response.append(response[-1])\n",
    "            else:\n",
    "                response.append(np.abs(response[-1]-1))\n",
    "        else :\n",
    "            response.append(np.random.randint(0, 2,1)[0])\n",
    "        reward.append(Bandit[response[-1], i])\n",
    "    return(response, reward)\n",
    "\n",
    "\n",
    "\n",
    "def RW_softmax(Bandit, alpha, beta):\n",
    "    # Initialize\n",
    "    n_trial = np.shape(Bandit)[1]\n",
    "    trial_number = 0\n",
    "    First_element = np.random.randint(0, 2,1)[0]\n",
    "    response  = [First_element]\n",
    "    reward = [Bandit[response[-1], trial_number]]\n",
    "    if First_element==0:\n",
    "        Q0 = [0 + alpha*(reward[-1] - 0)]\n",
    "        Q1 = [0]\n",
    "    elif First_element==1:\n",
    "        Q1 = [0 + alpha*(reward[-1] - 0)]\n",
    "        Q0 = [0]\n",
    "    p0 = [np.exp(beta*Q0[-1])/(np.exp(beta*Q0[-1]) + np.exp(beta*Q1[-1]))]\n",
    "\n",
    "    # Run for each trial\n",
    "    for i in range(1,n_trial):\n",
    "        if np.random.uniform(low=0.0, high=1.0, size=1)[0] < p0[-1]:\n",
    "            response.append(0)\n",
    "        else:\n",
    "            response.append(1)\n",
    "        # Reward and update the Q and p values\n",
    "        reward.append(Bandit[response[-1], i])\n",
    "        if response[-1] == 0:\n",
    "            Q0.append(Q0[-1] + alpha * (reward[-1] - Q0[-1]))\n",
    "            Q1.append(Q1[-1])\n",
    "        elif response[-1] == 1:\n",
    "            Q1.append(Q1[-1] + alpha * (reward[-1] - Q1[-1]))\n",
    "            Q0.append(Q0[-1])\n",
    "        p0.append(np.exp(beta * Q0[-1]) / (np.exp(beta * Q0[-1]) + np.exp(beta * Q1[-1])))\n",
    "    return (response, reward, Q0, Q1, p0)\n"
   ],
   "id": "12160c12d92273e5"
  },
  {
   "metadata": {},
   "cell_type": "code",
   "outputs": [],
   "execution_count": null,
   "source": [
    "def Estimate_likelihood_WSLS(epsilon, response, reward):\n",
    "    LL = -np.log(0.5)\n",
    "    for i in range(1, np.shape(response)[0]):\n",
    "        if ((reward[i - 1] > 0) & (response[i - 1] == response[i])) | ((reward[i - 1] < 0) & (response[i - 1] != response[i])):\n",
    "            LL += -np.log((1 - epsilon / 2))\n",
    "        else:\n",
    "            LL += -np.log((epsilon / 2))\n",
    "    return (LL)\n",
    "\n",
    "def Estimate_likelihood_RW_softmax(params, response, reward):\n",
    "    alpha, beta = params\n",
    "    LL = -np.log(0.5)\n",
    "    Q0 = 0\n",
    "    Q1 = 0\n",
    "    for i in range(1, np.shape(response)[0]):\n",
    "        if response[i-1] == 0:\n",
    "            Q0 = Q0 + alpha * (reward[i-1] - Q0)\n",
    "        elif response[i-1] == 1:\n",
    "            Q1 = Q1 + alpha * (reward[i-1] - Q1)\n",
    "        p0 = np.exp(beta * Q0) / ((np.exp(beta * Q0) + np.exp(beta * Q1)))\n",
    "        if (response[i]==0):\n",
    "            LL +=  -np.log(p0)\n",
    "        else:\n",
    "            LL += -np.log(1-p0)\n",
    "    return (LL)"
   ],
   "id": "f05d9182a70968c3"
  }
 ],
 "metadata": {
  "kernelspec": {
   "display_name": "Python 3",
   "language": "python",
   "name": "python3"
  },
  "language_info": {
   "codemirror_mode": {
    "name": "ipython",
    "version": 2
   },
   "file_extension": ".py",
   "mimetype": "text/x-python",
   "name": "python",
   "nbconvert_exporter": "python",
   "pygments_lexer": "ipython2",
   "version": "2.7.6"
  }
 },
 "nbformat": 4,
 "nbformat_minor": 5
}
